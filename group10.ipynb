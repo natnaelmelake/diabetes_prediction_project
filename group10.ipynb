{
 "cells": [
  {
   "cell_type": "code",
   "execution_count": 1,
   "metadata": {},
   "outputs": [],
   "source": [
    "import pandas as pd\n",
    "import numpy as np\n",
    "\n",
    "import matplotlib.pyplot as plt\n",
    "import seaborn as sns\n",
    "\n",
    "from sklearn.impute import SimpleImputer\n",
    "from sklearn.preprocessing import StandardScaler\n",
    "\n",
    "from sklearn.model_selection import train_test_split\n",
    "from sklearn.linear_model import LogisticRegression\n",
    "from sklearn.ensemble import RandomForestClassifier\n",
    "\n",
    "from sklearn.metrics import classification_report, confusion_matrix\n"
   ]
  },
  {
   "cell_type": "code",
   "execution_count": 2,
   "metadata": {},
   "outputs": [],
   "source": [
    "df_bd = pd.read_csv('DiaBD_A Diabetes Dataset for Enhanced Risk Analysis and Research in Bangladesh.csv')\n",
    "df_iq = pd.read_csv('Dataset of Diabetes .csv')"
   ]
  },
  {
   "cell_type": "code",
   "execution_count": null,
   "metadata": {},
   "outputs": [],
   "source": []
  },
  {
   "cell_type": "code",
   "execution_count": 3,
   "metadata": {},
   "outputs": [],
   "source": [
    "df_iq['source_country'] = 'Iraq'\n",
    "df_bd['source_country'] = 'Bangladesh'"
   ]
  },
  {
   "cell_type": "code",
   "execution_count": 4,
   "metadata": {},
   "outputs": [],
   "source": [
    "df_iq.rename(columns={\n",
    "    'AGE': 'age',\n",
    "    'Gender': 'gender',\n",
    "    'BMI': 'bmi',\n",
    "    'HbA1c': 'hba1c',\n",
    "    'Chol': 'cholesterol',\n",
    "    'CLASS': 'diabetic'\n",
    "},inplace=True)"
   ]
  },
  {
   "cell_type": "code",
   "execution_count": 5,
   "metadata": {},
   "outputs": [],
   "source": [
    "iraq_cols = set(df_iq.columns)\n",
    "bd_cols = set(df_bd.columns)\n",
    "missing_in_bd = iraq_cols - bd_cols\n",
    "missing_in_iraq = bd_cols - iraq_cols"
   ]
  },
  {
   "cell_type": "code",
   "execution_count": 6,
   "metadata": {},
   "outputs": [],
   "source": [
    "for col in missing_in_bd:\n",
    "    df_bd[col] = None"
   ]
  },
  {
   "cell_type": "code",
   "execution_count": 7,
   "metadata": {},
   "outputs": [],
   "source": [
    "for col in missing_in_iraq:\n",
    "    df_iq[col] = None"
   ]
  },
  {
   "cell_type": "code",
   "execution_count": 8,
   "metadata": {},
   "outputs": [],
   "source": [
    "df_bd = df_bd[df_iq.columns]"
   ]
  },
  {
   "cell_type": "code",
   "execution_count": 9,
   "metadata": {},
   "outputs": [],
   "source": [
    "merged_df = pd.concat([df_iq, df_bd], ignore_index=True)"
   ]
  },
  {
   "cell_type": "code",
   "execution_count": 10,
   "metadata": {},
   "outputs": [
    {
     "data": {
      "text/html": [
       "<div>\n",
       "<style scoped>\n",
       "    .dataframe tbody tr th:only-of-type {\n",
       "        vertical-align: middle;\n",
       "    }\n",
       "\n",
       "    .dataframe tbody tr th {\n",
       "        vertical-align: top;\n",
       "    }\n",
       "\n",
       "    .dataframe thead th {\n",
       "        text-align: right;\n",
       "    }\n",
       "</style>\n",
       "<table border=\"1\" class=\"dataframe\">\n",
       "  <thead>\n",
       "    <tr style=\"text-align: right;\">\n",
       "      <th></th>\n",
       "      <th>ID</th>\n",
       "      <th>No_Pation</th>\n",
       "      <th>gender</th>\n",
       "      <th>age</th>\n",
       "      <th>Urea</th>\n",
       "      <th>Cr</th>\n",
       "      <th>hba1c</th>\n",
       "      <th>cholesterol</th>\n",
       "      <th>TG</th>\n",
       "      <th>HDL</th>\n",
       "      <th>...</th>\n",
       "      <th>stroke</th>\n",
       "      <th>family_diabetes</th>\n",
       "      <th>family_hypertension</th>\n",
       "      <th>pulse_rate</th>\n",
       "      <th>height</th>\n",
       "      <th>diastolic_bp</th>\n",
       "      <th>cardiovascular_disease</th>\n",
       "      <th>hypertensive</th>\n",
       "      <th>systolic_bp</th>\n",
       "      <th>glucose</th>\n",
       "    </tr>\n",
       "  </thead>\n",
       "  <tbody>\n",
       "    <tr>\n",
       "      <th>0</th>\n",
       "      <td>502</td>\n",
       "      <td>17975</td>\n",
       "      <td>F</td>\n",
       "      <td>50</td>\n",
       "      <td>4.7</td>\n",
       "      <td>46</td>\n",
       "      <td>4.9</td>\n",
       "      <td>4.2</td>\n",
       "      <td>0.9</td>\n",
       "      <td>2.4</td>\n",
       "      <td>...</td>\n",
       "      <td>None</td>\n",
       "      <td>None</td>\n",
       "      <td>None</td>\n",
       "      <td>None</td>\n",
       "      <td>None</td>\n",
       "      <td>None</td>\n",
       "      <td>None</td>\n",
       "      <td>None</td>\n",
       "      <td>None</td>\n",
       "      <td>None</td>\n",
       "    </tr>\n",
       "    <tr>\n",
       "      <th>1</th>\n",
       "      <td>735</td>\n",
       "      <td>34221</td>\n",
       "      <td>M</td>\n",
       "      <td>26</td>\n",
       "      <td>4.5</td>\n",
       "      <td>62</td>\n",
       "      <td>4.9</td>\n",
       "      <td>3.7</td>\n",
       "      <td>1.4</td>\n",
       "      <td>1.1</td>\n",
       "      <td>...</td>\n",
       "      <td>None</td>\n",
       "      <td>None</td>\n",
       "      <td>None</td>\n",
       "      <td>None</td>\n",
       "      <td>None</td>\n",
       "      <td>None</td>\n",
       "      <td>None</td>\n",
       "      <td>None</td>\n",
       "      <td>None</td>\n",
       "      <td>None</td>\n",
       "    </tr>\n",
       "    <tr>\n",
       "      <th>2</th>\n",
       "      <td>420</td>\n",
       "      <td>47975</td>\n",
       "      <td>F</td>\n",
       "      <td>50</td>\n",
       "      <td>4.7</td>\n",
       "      <td>46</td>\n",
       "      <td>4.9</td>\n",
       "      <td>4.2</td>\n",
       "      <td>0.9</td>\n",
       "      <td>2.4</td>\n",
       "      <td>...</td>\n",
       "      <td>None</td>\n",
       "      <td>None</td>\n",
       "      <td>None</td>\n",
       "      <td>None</td>\n",
       "      <td>None</td>\n",
       "      <td>None</td>\n",
       "      <td>None</td>\n",
       "      <td>None</td>\n",
       "      <td>None</td>\n",
       "      <td>None</td>\n",
       "    </tr>\n",
       "    <tr>\n",
       "      <th>3</th>\n",
       "      <td>680</td>\n",
       "      <td>87656</td>\n",
       "      <td>F</td>\n",
       "      <td>50</td>\n",
       "      <td>4.7</td>\n",
       "      <td>46</td>\n",
       "      <td>4.9</td>\n",
       "      <td>4.2</td>\n",
       "      <td>0.9</td>\n",
       "      <td>2.4</td>\n",
       "      <td>...</td>\n",
       "      <td>None</td>\n",
       "      <td>None</td>\n",
       "      <td>None</td>\n",
       "      <td>None</td>\n",
       "      <td>None</td>\n",
       "      <td>None</td>\n",
       "      <td>None</td>\n",
       "      <td>None</td>\n",
       "      <td>None</td>\n",
       "      <td>None</td>\n",
       "    </tr>\n",
       "    <tr>\n",
       "      <th>4</th>\n",
       "      <td>504</td>\n",
       "      <td>34223</td>\n",
       "      <td>M</td>\n",
       "      <td>33</td>\n",
       "      <td>7.1</td>\n",
       "      <td>46</td>\n",
       "      <td>4.9</td>\n",
       "      <td>4.9</td>\n",
       "      <td>1</td>\n",
       "      <td>0.8</td>\n",
       "      <td>...</td>\n",
       "      <td>None</td>\n",
       "      <td>None</td>\n",
       "      <td>None</td>\n",
       "      <td>None</td>\n",
       "      <td>None</td>\n",
       "      <td>None</td>\n",
       "      <td>None</td>\n",
       "      <td>None</td>\n",
       "      <td>None</td>\n",
       "      <td>None</td>\n",
       "    </tr>\n",
       "  </tbody>\n",
       "</table>\n",
       "<p>5 rows × 26 columns</p>\n",
       "</div>"
      ],
      "text/plain": [
       "    ID No_Pation gender  age Urea  Cr hba1c cholesterol   TG  HDL  ... stroke  \\\n",
       "0  502     17975      F   50  4.7  46   4.9         4.2  0.9  2.4  ...   None   \n",
       "1  735     34221      M   26  4.5  62   4.9         3.7  1.4  1.1  ...   None   \n",
       "2  420     47975      F   50  4.7  46   4.9         4.2  0.9  2.4  ...   None   \n",
       "3  680     87656      F   50  4.7  46   4.9         4.2  0.9  2.4  ...   None   \n",
       "4  504     34223      M   33  7.1  46   4.9         4.9    1  0.8  ...   None   \n",
       "\n",
       "  family_diabetes  family_hypertension pulse_rate height diastolic_bp  \\\n",
       "0            None                 None       None   None         None   \n",
       "1            None                 None       None   None         None   \n",
       "2            None                 None       None   None         None   \n",
       "3            None                 None       None   None         None   \n",
       "4            None                 None       None   None         None   \n",
       "\n",
       "  cardiovascular_disease hypertensive systolic_bp glucose  \n",
       "0                   None         None        None    None  \n",
       "1                   None         None        None    None  \n",
       "2                   None         None        None    None  \n",
       "3                   None         None        None    None  \n",
       "4                   None         None        None    None  \n",
       "\n",
       "[5 rows x 26 columns]"
      ]
     },
     "execution_count": 10,
     "metadata": {},
     "output_type": "execute_result"
    }
   ],
   "source": [
    "merged_df.head()"
   ]
  },
  {
   "cell_type": "code",
   "execution_count": 11,
   "metadata": {},
   "outputs": [
    {
     "name": "stdout",
     "output_type": "stream",
     "text": [
      "Column names: ['ID', 'No_Pation', 'gender', 'age', 'Urea', 'Cr', 'hba1c', 'cholesterol', 'TG', 'HDL', 'LDL', 'VLDL', 'bmi', 'diabetic', 'source_country', 'weight', 'stroke', 'family_diabetes', 'family_hypertension', 'pulse_rate', 'height', 'diastolic_bp', 'cardiovascular_disease', 'hypertensive', 'systolic_bp', 'glucose']\n"
     ]
    }
   ],
   "source": [
    "print(\"Column names:\", merged_df.columns.tolist())\n"
   ]
  },
  {
   "cell_type": "code",
   "execution_count": 12,
   "metadata": {},
   "outputs": [
    {
     "name": "stdout",
     "output_type": "stream",
     "text": [
      "Missing values per column:\n",
      "ID                        5288\n",
      "VLDL                      5288\n",
      "No_Pation                 5288\n",
      "Urea                      5288\n",
      "Cr                        5288\n",
      "hba1c                     5288\n",
      "cholesterol               5288\n",
      "TG                        5288\n",
      "HDL                       5288\n",
      "LDL                       5288\n",
      "glucose                   1000\n",
      "systolic_bp               1000\n",
      "stroke                    1000\n",
      "family_diabetes           1000\n",
      "family_hypertension       1000\n",
      "pulse_rate                1000\n",
      "height                    1000\n",
      "diastolic_bp              1000\n",
      "cardiovascular_disease    1000\n",
      "hypertensive              1000\n",
      "weight                    1000\n",
      "dtype: int64\n"
     ]
    }
   ],
   "source": [
    "missing_summary = merged_df.isnull().sum()\n",
    "missing_summary = missing_summary[missing_summary > 0].sort_values(ascending=False)\n",
    "print(\"Missing values per column:\")\n",
    "print(missing_summary)\n"
   ]
  },
  {
   "cell_type": "code",
   "execution_count": 28,
   "metadata": {},
   "outputs": [],
   "source": [
    "# fig, ax = plt.subplots(figsize=(10, 8))\n",
    "# numeric_df = merged_df.select_dtypes(include='number')\n",
    "# corr_matrix = numeric_df.corr()\n",
    "\n",
    "# sns.heatmap(corr_matrix, ax=ax, annot=True, cmap='coolwarm', fmt=\".2f\", square=True)\n",
    "\n",
    "# ax.set_title(\"Feature Correlation Heatmap\", fontsize=14,)\n",
    "# plt.tight_layout()\n",
    "\n",
    "# plt.show()\n"
   ]
  },
  {
   "cell_type": "code",
   "execution_count": 13,
   "metadata": {},
   "outputs": [],
   "source": [
    "merged_df.drop(columns=[\n",
    "    'ID', 'No_Pation', 'Urea', 'Cr', 'VLDL', 'TG', 'HDL', 'LDL',\n",
    "    'cholesterol', 'height', 'weight', 'pulse_rate',\n",
    "    'family_diabetes', 'family_hypertension'\n",
    "], inplace=True)\n"
   ]
  },
  {
   "cell_type": "code",
   "execution_count": 14,
   "metadata": {},
   "outputs": [
    {
     "data": {
      "text/plain": [
       "Index(['gender', 'age', 'hba1c', 'bmi', 'diabetic', 'source_country', 'stroke',\n",
       "       'diastolic_bp', 'cardiovascular_disease', 'hypertensive', 'systolic_bp',\n",
       "       'glucose'],\n",
       "      dtype='object')"
      ]
     },
     "execution_count": 14,
     "metadata": {},
     "output_type": "execute_result"
    }
   ],
   "source": [
    "merged_df.columns"
   ]
  },
  {
   "cell_type": "code",
   "execution_count": 15,
   "metadata": {},
   "outputs": [
    {
     "data": {
      "text/plain": [
       "gender                     object\n",
       "age                         int64\n",
       "hba1c                      object\n",
       "bmi                       float64\n",
       "diabetic                   object\n",
       "source_country             object\n",
       "stroke                     object\n",
       "diastolic_bp               object\n",
       "cardiovascular_disease     object\n",
       "hypertensive               object\n",
       "systolic_bp                object\n",
       "glucose                    object\n",
       "dtype: object"
      ]
     },
     "execution_count": 15,
     "metadata": {},
     "output_type": "execute_result"
    }
   ],
   "source": [
    "merged_df.dtypes"
   ]
  },
  {
   "cell_type": "code",
   "execution_count": 16,
   "metadata": {},
   "outputs": [],
   "source": [
    "merged_df['gender'] = merged_df['gender'].str.strip().str.upper()\n",
    "merged_df['diabetic'] = merged_df['diabetic'].str.strip().str.title()"
   ]
  },
  {
   "cell_type": "code",
   "execution_count": 17,
   "metadata": {},
   "outputs": [
    {
     "name": "stdout",
     "output_type": "stream",
     "text": [
      "Gender values: ['F' 'M' 'FEMALE' 'MALE']\n",
      "Diabetic values: ['N' 'P' 'Y' 'No' 'Yes']\n"
     ]
    }
   ],
   "source": [
    "print(\"Gender values:\", merged_df['gender'].unique())\n",
    "print(\"Diabetic values:\", merged_df['diabetic'].unique())\n"
   ]
  },
  {
   "cell_type": "code",
   "execution_count": 18,
   "metadata": {},
   "outputs": [],
   "source": [
    "\n",
    "merged_df['glucose'] = pd.to_numeric(merged_df['glucose'], errors='coerce')\n",
    "merged_df['hba1c'] = pd.to_numeric(merged_df['hba1c'], errors='coerce')\n",
    "merged_df['diastolic_bp'] = pd.to_numeric(merged_df['diastolic_bp'], errors='coerce')\n",
    "merged_df['systolic_bp'] = pd.to_numeric(merged_df['systolic_bp'], errors='coerce')\n",
    "merged_df['cardiovascular_disease'] = pd.to_numeric(merged_df['cardiovascular_disease'], errors='coerce')\n",
    "merged_df['hypertensive'] = pd.to_numeric(merged_df['hypertensive'], errors='coerce')\n",
    "merged_df['stroke'] = pd.to_numeric(merged_df['stroke'], errors='coerce')\n",
    "merged_df['gender'] = merged_df['gender'].replace({'FEMALE': 'F', 'MALE': 'M'})\n",
    "merged_df['diabetic'] = merged_df['diabetic'].str.strip().str.upper()\n",
    "merged_df['diabetic'] = merged_df['diabetic'].replace({'YES': 1, 'NO': 0, 'Y': 1, 'N': 0, 'P': 1})\n",
    "\n",
    "# merged_df['gender'] = merged_df['gender'].map({'M': 1, 'F': 0})  # binary encoding\n",
    "# merged_df['diabetic'] = merged_df['diabetic'].map({'Yes': 1, 'No': 0})  # target encoding\n"
   ]
  },
  {
   "cell_type": "code",
   "execution_count": 19,
   "metadata": {},
   "outputs": [
    {
     "data": {
      "text/plain": [
       "gender                     object\n",
       "age                         int64\n",
       "hba1c                     float64\n",
       "bmi                       float64\n",
       "diabetic                    int64\n",
       "source_country             object\n",
       "stroke                    float64\n",
       "diastolic_bp              float64\n",
       "cardiovascular_disease    float64\n",
       "hypertensive              float64\n",
       "systolic_bp               float64\n",
       "glucose                   float64\n",
       "dtype: object"
      ]
     },
     "execution_count": 19,
     "metadata": {},
     "output_type": "execute_result"
    }
   ],
   "source": [
    "merged_df.dtypes"
   ]
  },
  {
   "cell_type": "code",
   "execution_count": 24,
   "metadata": {},
   "outputs": [
    {
     "data": {
      "image/png": "[encoded data removed]",
      "text/plain": [
       "<Figure size 720x576 with 2 Axes>"
      ]
     },
     "metadata": {
      "needs_background": "light"
     },
     "output_type": "display_data"
    }
   ],
   "source": [
    "# plt.figure(figsize=(10, 6))\n",
    "# sns.heatmap(merged_df.isnull(), cbar=False, cmap='viridis')\n",
    "# plt.title(\"Missing Values Heatmap (Before Imputation)\", fontsize=14)\n",
    "# plt.show()\n",
    "\n",
    "numeric_df = merged_df.select_dtypes(include=['number'])\n",
    "corr_before = numeric_df.corr()\n",
    "fig, ax = plt.subplots(figsize=(10, 8))\n",
    "sns.heatmap(corr_before, annot=True, fmt=\".2f\", cmap=\"coolwarm\", ax=ax)\n",
    "ax.set_title(\"Correlation Heatmap (Before Imputation)\", fontsize=14)\n",
    "plt.show()\n",
    "\n"
   ]
  },
  {
   "cell_type": "code",
   "execution_count": 25,
   "metadata": {},
   "outputs": [],
   "source": [
    "from sklearn.impute import SimpleImputer\n",
    "\n",
    "# Define numeric columns with missing values\n",
    "numeric_cols = ['glucose', 'hba1c', 'diastolic_bp', 'systolic_bp']\n",
    "\n",
    "# Initialize and apply median imputer\n",
    "num_imputer = SimpleImputer(strategy='median')\n",
    "merged_df[numeric_cols] = num_imputer.fit_transform(merged_df[numeric_cols])\n"
   ]
  },
  {
   "cell_type": "code",
   "execution_count": 26,
   "metadata": {},
   "outputs": [],
   "source": [
    "# merged_df[binary_cols] = merged_df[binary_cols].replace({None: np.nan})"
   ]
  },
  {
   "cell_type": "code",
   "execution_count": 27,
   "metadata": {},
   "outputs": [],
   "source": [
    "binary_cols = ['hypertensive', 'stroke', 'cardiovascular_disease']\n",
    "\n",
    "# Initialize and apply mode imputer\n",
    "bin_imputer = SimpleImputer(strategy='most_frequent')\n",
    "merged_df[binary_cols] = bin_imputer.fit_transform(merged_df[binary_cols])\n"
   ]
  },
  {
   "cell_type": "code",
   "execution_count": 28,
   "metadata": {},
   "outputs": [
    {
     "name": "stdout",
     "output_type": "stream",
     "text": [
      "Missing values after imputation:\n",
      "glucose                   0\n",
      "hba1c                     0\n",
      "diastolic_bp              0\n",
      "systolic_bp               0\n",
      "hypertensive              0\n",
      "stroke                    0\n",
      "cardiovascular_disease    0\n",
      "dtype: int64\n"
     ]
    }
   ],
   "source": [
    "# Check for any remaining missing values\n",
    "missing_check = merged_df[['glucose', 'hba1c', 'diastolic_bp', 'systolic_bp',\n",
    "                           'hypertensive', 'stroke', 'cardiovascular_disease']].isnull().sum()\n",
    "\n",
    "print(\"Missing values after imputation:\")\n",
    "print(missing_check)\n"
   ]
  },
  {
   "cell_type": "code",
   "execution_count": 29,
   "metadata": {},
   "outputs": [
    {
     "name": "stdout",
     "output_type": "stream",
     "text": [
      "Numeric column summaries:\n",
      "           glucose        hba1c  diastolic_bp  systolic_bp\n",
      "count  6288.000000  6288.000000   6288.000000  6288.000000\n",
      "mean      7.463108     8.044714     82.034033   133.361005\n",
      "std       2.710018     1.015329     11.452440    20.439487\n",
      "min       0.000000     0.900000     45.000000    62.000000\n",
      "25%       6.140000     8.000000     75.000000   121.000000\n",
      "50%       6.930000     8.000000     81.000000   130.000000\n",
      "75%       7.880000     8.000000     88.000000   143.000000\n",
      "max      33.460000    16.000000    119.000000   231.000000\n"
     ]
    }
   ],
   "source": [
    "print(\"Numeric column summaries:\")\n",
    "print(merged_df[['glucose', 'hba1c', 'diastolic_bp', 'systolic_bp']].describe())\n"
   ]
  },
  {
   "cell_type": "code",
   "execution_count": 30,
   "metadata": {},
   "outputs": [],
   "source": [
    "median_glucose = merged_df['glucose'].median()\n",
    "merged_df.loc[merged_df['glucose'] == 0, 'glucose'] = median_glucose\n"
   ]
  },
  {
   "cell_type": "code",
   "execution_count": 31,
   "metadata": {},
   "outputs": [
    {
     "data": {
      "text/plain": [
       "gender                     object\n",
       "age                         int64\n",
       "hba1c                     float64\n",
       "bmi                       float64\n",
       "diabetic                    int64\n",
       "source_country             object\n",
       "stroke                    float64\n",
       "diastolic_bp              float64\n",
       "cardiovascular_disease    float64\n",
       "hypertensive              float64\n",
       "systolic_bp               float64\n",
       "glucose                   float64\n",
       "dtype: object"
      ]
     },
     "execution_count": 31,
     "metadata": {},
     "output_type": "execute_result"
    }
   ],
   "source": [
    "merged_df.dtypes # checking datatypes"
   ]
  },
  {
   "cell_type": "code",
   "execution_count": 32,
   "metadata": {},
   "outputs": [],
   "source": [
    "binary_cols = ['cardiovascular_disease', 'stroke', 'hypertensive']\n",
    "merged_df[binary_cols] = merged_df[binary_cols].astype(int)\n"
   ]
  },
  {
   "cell_type": "code",
   "execution_count": 33,
   "metadata": {},
   "outputs": [
    {
     "data": {
      "text/plain": [
       "gender                     object\n",
       "age                         int64\n",
       "hba1c                     float64\n",
       "bmi                       float64\n",
       "diabetic                    int64\n",
       "source_country             object\n",
       "stroke                      int32\n",
       "diastolic_bp              float64\n",
       "cardiovascular_disease      int32\n",
       "hypertensive                int32\n",
       "systolic_bp               float64\n",
       "glucose                   float64\n",
       "dtype: object"
      ]
     },
     "execution_count": 33,
     "metadata": {},
     "output_type": "execute_result"
    }
   ],
   "source": [
    "merged_df.dtypes # checking after converting"
   ]
  },
  {
   "cell_type": "code",
   "execution_count": 34,
   "metadata": {},
   "outputs": [
    {
     "name": "stdout",
     "output_type": "stream",
     "text": [
      "Gender values: ['F' 'M']\n",
      "Source country values: ['Iraq' 'Bangladesh']\n",
      "Diabetic values: [0 1]\n"
     ]
    }
   ],
   "source": [
    "print(\"Gender values:\", merged_df['gender'].unique())\n",
    "print(\"Source country values:\", merged_df['source_country'].unique())\n",
    "print(\"Diabetic values:\", merged_df['diabetic'].unique())\n"
   ]
  },
  {
   "cell_type": "code",
   "execution_count": 35,
   "metadata": {},
   "outputs": [],
   "source": [
    "merged_df['gender'] = (\n",
    "    merged_df['gender'].astype(str).str.strip().str.upper().map({'M': 1, 'MALE': 1, 'F': 0, 'FEMALE': 0})\n",
    ")\n",
    "\n"
   ]
  },
  {
   "cell_type": "code",
   "execution_count": 40,
   "metadata": {},
   "outputs": [
    {
     "data": {
      "image/png": "[encoded data removed]",
      "text/plain": [
       "<Figure size 864x432 with 1 Axes>"
      ]
     },
     "metadata": {
      "needs_background": "light"
     },
     "output_type": "display_data"
    }
   ],
   "source": [
    "numeric_cols = ['age','hba1c','bmi','diastolic_bp','systolic_bp','glucose']\n",
    "fig1, ax1 = plt.subplots(figsize=(12, 6))\n",
    "sns.boxplot(data=merged_df[numeric_cols])\n",
    "ax1.set_title(\"Boxplot of Numeric Variables\")\n",
    "plt.show()\n",
    "\n",
    "\n"
   ]
  },
  {
   "cell_type": "code",
   "execution_count": 42,
   "metadata": {},
   "outputs": [
    {
     "data": {
      "image/png": "[encoded data removed]",
      "text/plain": [
       "<Figure size 432x288 with 1 Axes>"
      ]
     },
     "metadata": {
      "needs_background": "light"
     },
     "output_type": "display_data"
    },
    {
     "data": {
      "image/png": "[encoded data removed]",
      "text/plain": [
       "<Figure size 432x288 with 1 Axes>"
      ]
     },
     "metadata": {
      "needs_background": "light"
     },
     "output_type": "display_data"
    },
    {
     "data": {
      "image/png": "[encoded data removed]",
      "text/plain": [
       "<Figure size 432x288 with 1 Axes>"
      ]
     },
     "metadata": {
      "needs_background": "light"
     },
     "output_type": "display_data"
    },
    {
     "data": {
      "image/png": "[encoded data removed]",
      "text/plain": [
       "<Figure size 432x288 with 1 Axes>"
      ]
     },
     "metadata": {
      "needs_background": "light"
     },
     "output_type": "display_data"
    },
    {
     "data": {
      "image/png": "[encoded data removed]",
      "text/plain": [
       "<Figure size 432x288 with 1 Axes>"
      ]
     },
     "metadata": {
      "needs_background": "light"
     },
     "output_type": "display_data"
    },
    {
     "data": {
      "image/png": "[encoded data removed]",
      "text/plain": [
       "<Figure size 432x288 with 1 Axes>"
      ]
     },
     "metadata": {
      "needs_background": "light"
     },
     "output_type": "display_data"
    }
   ],
   "source": [
    "for col in numeric_cols:\n",
    "    plt.figure(figsize=(6,4))\n",
    "    sns.boxplot(x=merged_df[col])\n",
    "    plt.title(f'Boxplot of {col}')\n",
    "    plt.show()\n"
   ]
  },
  {
   "cell_type": "code",
   "execution_count": 43,
   "metadata": {},
   "outputs": [
    {
     "name": "stdout",
     "output_type": "stream",
     "text": [
      "Gender values: [0 1]\n",
      "Source country values: ['Iraq' 'Bangladesh']\n",
      "Diabetic values: [0 1]\n"
     ]
    }
   ],
   "source": [
    "print(\"Gender values:\", merged_df['gender'].unique())\n",
    "print(\"Source country values:\", merged_df['source_country'].unique())\n",
    "print(\"Diabetic values:\", merged_df['diabetic'].unique())"
   ]
  },
  {
   "cell_type": "code",
   "execution_count": 44,
   "metadata": {},
   "outputs": [],
   "source": [
    "merged_df = merged_df.drop(columns=['source_country'])\n"
   ]
  },
  {
   "cell_type": "code",
   "execution_count": 45,
   "metadata": {},
   "outputs": [
    {
     "data": {
      "text/html": [
       "<div>\n",
       "<style scoped>\n",
       "    .dataframe tbody tr th:only-of-type {\n",
       "        vertical-align: middle;\n",
       "    }\n",
       "\n",
       "    .dataframe tbody tr th {\n",
       "        vertical-align: top;\n",
       "    }\n",
       "\n",
       "    .dataframe thead th {\n",
       "        text-align: right;\n",
       "    }\n",
       "</style>\n",
       "<table border=\"1\" class=\"dataframe\">\n",
       "  <thead>\n",
       "    <tr style=\"text-align: right;\">\n",
       "      <th></th>\n",
       "      <th>gender</th>\n",
       "      <th>age</th>\n",
       "      <th>hba1c</th>\n",
       "      <th>bmi</th>\n",
       "      <th>diabetic</th>\n",
       "      <th>stroke</th>\n",
       "      <th>diastolic_bp</th>\n",
       "      <th>cardiovascular_disease</th>\n",
       "      <th>hypertensive</th>\n",
       "      <th>systolic_bp</th>\n",
       "      <th>glucose</th>\n",
       "    </tr>\n",
       "  </thead>\n",
       "  <tbody>\n",
       "    <tr>\n",
       "      <th>0</th>\n",
       "      <td>0</td>\n",
       "      <td>50</td>\n",
       "      <td>4.9</td>\n",
       "      <td>24.0</td>\n",
       "      <td>0</td>\n",
       "      <td>0</td>\n",
       "      <td>81.0</td>\n",
       "      <td>0</td>\n",
       "      <td>0</td>\n",
       "      <td>130.0</td>\n",
       "      <td>6.93</td>\n",
       "    </tr>\n",
       "    <tr>\n",
       "      <th>1</th>\n",
       "      <td>1</td>\n",
       "      <td>26</td>\n",
       "      <td>4.9</td>\n",
       "      <td>23.0</td>\n",
       "      <td>0</td>\n",
       "      <td>0</td>\n",
       "      <td>81.0</td>\n",
       "      <td>0</td>\n",
       "      <td>0</td>\n",
       "      <td>130.0</td>\n",
       "      <td>6.93</td>\n",
       "    </tr>\n",
       "    <tr>\n",
       "      <th>2</th>\n",
       "      <td>0</td>\n",
       "      <td>50</td>\n",
       "      <td>4.9</td>\n",
       "      <td>24.0</td>\n",
       "      <td>0</td>\n",
       "      <td>0</td>\n",
       "      <td>81.0</td>\n",
       "      <td>0</td>\n",
       "      <td>0</td>\n",
       "      <td>130.0</td>\n",
       "      <td>6.93</td>\n",
       "    </tr>\n",
       "    <tr>\n",
       "      <th>3</th>\n",
       "      <td>0</td>\n",
       "      <td>50</td>\n",
       "      <td>4.9</td>\n",
       "      <td>24.0</td>\n",
       "      <td>0</td>\n",
       "      <td>0</td>\n",
       "      <td>81.0</td>\n",
       "      <td>0</td>\n",
       "      <td>0</td>\n",
       "      <td>130.0</td>\n",
       "      <td>6.93</td>\n",
       "    </tr>\n",
       "    <tr>\n",
       "      <th>4</th>\n",
       "      <td>1</td>\n",
       "      <td>33</td>\n",
       "      <td>4.9</td>\n",
       "      <td>21.0</td>\n",
       "      <td>0</td>\n",
       "      <td>0</td>\n",
       "      <td>81.0</td>\n",
       "      <td>0</td>\n",
       "      <td>0</td>\n",
       "      <td>130.0</td>\n",
       "      <td>6.93</td>\n",
       "    </tr>\n",
       "  </tbody>\n",
       "</table>\n",
       "</div>"
      ],
      "text/plain": [
       "   gender  age  hba1c   bmi  diabetic  stroke  diastolic_bp  \\\n",
       "0       0   50    4.9  24.0         0       0          81.0   \n",
       "1       1   26    4.9  23.0         0       0          81.0   \n",
       "2       0   50    4.9  24.0         0       0          81.0   \n",
       "3       0   50    4.9  24.0         0       0          81.0   \n",
       "4       1   33    4.9  21.0         0       0          81.0   \n",
       "\n",
       "   cardiovascular_disease  hypertensive  systolic_bp  glucose  \n",
       "0                       0             0        130.0     6.93  \n",
       "1                       0             0        130.0     6.93  \n",
       "2                       0             0        130.0     6.93  \n",
       "3                       0             0        130.0     6.93  \n",
       "4                       0             0        130.0     6.93  "
      ]
     },
     "execution_count": 45,
     "metadata": {},
     "output_type": "execute_result"
    }
   ],
   "source": [
    "merged_df.head()"
   ]
  },
  {
   "cell_type": "code",
   "execution_count": 46,
   "metadata": {},
   "outputs": [],
   "source": [
    "X = merged_df.drop(columns=['diabetic'])  # Features\n",
    "y = merged_df['diabetic']                # Target"
   ]
  },
  {
   "cell_type": "code",
   "execution_count": 47,
   "metadata": {},
   "outputs": [
    {
     "data": {
      "text/plain": [
       "0    0\n",
       "1    0\n",
       "2    0\n",
       "3    0\n",
       "4    0\n",
       "Name: diabetic, dtype: int64"
      ]
     },
     "execution_count": 47,
     "metadata": {},
     "output_type": "execute_result"
    }
   ],
   "source": [
    "y.head()"
   ]
  },
  {
   "cell_type": "code",
   "execution_count": 48,
   "metadata": {},
   "outputs": [],
   "source": [
    "from sklearn.model_selection import train_test_split\n",
    "\n",
    "X_train, X_test, y_train, y_test = train_test_split(X, y, test_size=0.2, random_state=42, stratify=y)"
   ]
  },
  {
   "cell_type": "code",
   "execution_count": 49,
   "metadata": {},
   "outputs": [
    {
     "name": "stdout",
     "output_type": "stream",
     "text": [
      "<class 'pandas.core.frame.DataFrame'>\n",
      "Int64Index: 1258 entries, 1017 to 2403\n",
      "Data columns (total 10 columns):\n",
      " #   Column                  Non-Null Count  Dtype  \n",
      "---  ------                  --------------  -----  \n",
      " 0   gender                  1258 non-null   int64  \n",
      " 1   age                     1258 non-null   int64  \n",
      " 2   hba1c                   1258 non-null   float64\n",
      " 3   bmi                     1258 non-null   float64\n",
      " 4   stroke                  1258 non-null   int32  \n",
      " 5   diastolic_bp            1258 non-null   float64\n",
      " 6   cardiovascular_disease  1258 non-null   int32  \n",
      " 7   hypertensive            1258 non-null   int32  \n",
      " 8   systolic_bp             1258 non-null   float64\n",
      " 9   glucose                 1258 non-null   float64\n",
      "dtypes: float64(5), int32(3), int64(2)\n",
      "memory usage: 93.4 KB\n"
     ]
    }
   ],
   "source": [
    "X_test.info()"
   ]
  },
  {
   "cell_type": "code",
   "execution_count": 50,
   "metadata": {},
   "outputs": [],
   "source": [
    "continuous_cols = ['age', 'glucose', 'hba1c', 'bmi', 'diastolic_bp', 'systolic_bp']\n"
   ]
  },
  {
   "cell_type": "code",
   "execution_count": 51,
   "metadata": {},
   "outputs": [
    {
     "name": "stderr",
     "output_type": "stream",
     "text": [
      "<ipython-input-51-97f16f0b954d>:4: SettingWithCopyWarning: \n",
      "A value is trying to be set on a copy of a slice from a DataFrame.\n",
      "Try using .loc[row_indexer,col_indexer] = value instead\n",
      "\n",
      "See the caveats in the documentation: https://pandas.pydata.org/pandas-docs/stable/user_guide/indexing.html#returning-a-view-versus-a-copy\n",
      "  X_train[continuous_cols] = scaler.fit_transform(X_train[continuous_cols])\n",
      "C:\\Users\\natu\\anaconda3\\lib\\site-packages\\pandas\\core\\indexing.py:1736: SettingWithCopyWarning: \n",
      "A value is trying to be set on a copy of a slice from a DataFrame.\n",
      "Try using .loc[row_indexer,col_indexer] = value instead\n",
      "\n",
      "See the caveats in the documentation: https://pandas.pydata.org/pandas-docs/stable/user_guide/indexing.html#returning-a-view-versus-a-copy\n",
      "  isetter(loc, value[:, i].tolist())\n",
      "<ipython-input-51-97f16f0b954d>:5: SettingWithCopyWarning: \n",
      "A value is trying to be set on a copy of a slice from a DataFrame.\n",
      "Try using .loc[row_indexer,col_indexer] = value instead\n",
      "\n",
      "See the caveats in the documentation: https://pandas.pydata.org/pandas-docs/stable/user_guide/indexing.html#returning-a-view-versus-a-copy\n",
      "  X_test[continuous_cols] = scaler.transform(X_test[continuous_cols])\n",
      "C:\\Users\\natu\\anaconda3\\lib\\site-packages\\pandas\\core\\indexing.py:1736: SettingWithCopyWarning: \n",
      "A value is trying to be set on a copy of a slice from a DataFrame.\n",
      "Try using .loc[row_indexer,col_indexer] = value instead\n",
      "\n",
      "See the caveats in the documentation: https://pandas.pydata.org/pandas-docs/stable/user_guide/indexing.html#returning-a-view-versus-a-copy\n",
      "  isetter(loc, value[:, i].tolist())\n"
     ]
    }
   ],
   "source": [
    "from sklearn.preprocessing import StandardScaler\n",
    "\n",
    "scaler = StandardScaler()\n",
    "X_train[continuous_cols] = scaler.fit_transform(X_train[continuous_cols])\n",
    "X_test[continuous_cols] = scaler.transform(X_test[continuous_cols])\n"
   ]
  },
  {
   "cell_type": "code",
   "execution_count": 52,
   "metadata": {},
   "outputs": [
    {
     "data": {
      "text/html": [
       "<div>\n",
       "<style scoped>\n",
       "    .dataframe tbody tr th:only-of-type {\n",
       "        vertical-align: middle;\n",
       "    }\n",
       "\n",
       "    .dataframe tbody tr th {\n",
       "        vertical-align: top;\n",
       "    }\n",
       "\n",
       "    .dataframe thead th {\n",
       "        text-align: right;\n",
       "    }\n",
       "</style>\n",
       "<table border=\"1\" class=\"dataframe\">\n",
       "  <thead>\n",
       "    <tr style=\"text-align: right;\">\n",
       "      <th></th>\n",
       "      <th>age</th>\n",
       "      <th>glucose</th>\n",
       "      <th>hba1c</th>\n",
       "      <th>bmi</th>\n",
       "      <th>diastolic_bp</th>\n",
       "      <th>systolic_bp</th>\n",
       "    </tr>\n",
       "  </thead>\n",
       "  <tbody>\n",
       "    <tr>\n",
       "      <th>count</th>\n",
       "      <td>5.030000e+03</td>\n",
       "      <td>5.030000e+03</td>\n",
       "      <td>5.030000e+03</td>\n",
       "      <td>5.030000e+03</td>\n",
       "      <td>5.030000e+03</td>\n",
       "      <td>5.030000e+03</td>\n",
       "    </tr>\n",
       "    <tr>\n",
       "      <th>mean</th>\n",
       "      <td>-2.357900e-16</td>\n",
       "      <td>-2.768936e-16</td>\n",
       "      <td>-5.410213e-16</td>\n",
       "      <td>1.692925e-16</td>\n",
       "      <td>1.159885e-16</td>\n",
       "      <td>-4.836754e-16</td>\n",
       "    </tr>\n",
       "    <tr>\n",
       "      <th>std</th>\n",
       "      <td>1.000099e+00</td>\n",
       "      <td>1.000099e+00</td>\n",
       "      <td>1.000099e+00</td>\n",
       "      <td>1.000099e+00</td>\n",
       "      <td>1.000099e+00</td>\n",
       "      <td>1.000099e+00</td>\n",
       "    </tr>\n",
       "    <tr>\n",
       "      <th>min</th>\n",
       "      <td>-2.045054e+00</td>\n",
       "      <td>-2.704923e+00</td>\n",
       "      <td>-7.007919e+00</td>\n",
       "      <td>-2.374462e+00</td>\n",
       "      <td>-3.232432e+00</td>\n",
       "      <td>-2.657644e+00</td>\n",
       "    </tr>\n",
       "    <tr>\n",
       "      <th>25%</th>\n",
       "      <td>-9.051948e-01</td>\n",
       "      <td>-4.881371e-01</td>\n",
       "      <td>-3.812669e-02</td>\n",
       "      <td>-3.658751e-01</td>\n",
       "      <td>-6.135956e-01</td>\n",
       "      <td>-6.023312e-01</td>\n",
       "    </tr>\n",
       "    <tr>\n",
       "      <th>50%</th>\n",
       "      <td>6.692613e-03</td>\n",
       "      <td>-2.010452e-01</td>\n",
       "      <td>-3.812669e-02</td>\n",
       "      <td>-1.198390e-01</td>\n",
       "      <td>-8.982834e-02</td>\n",
       "      <td>-1.619072e-01</td>\n",
       "    </tr>\n",
       "    <tr>\n",
       "      <th>75%</th>\n",
       "      <td>6.906082e-01</td>\n",
       "      <td>1.587281e-01</td>\n",
       "      <td>-3.812669e-02</td>\n",
       "      <td>2.534570e-01</td>\n",
       "      <td>5.212335e-01</td>\n",
       "      <td>4.742609e-01</td>\n",
       "    </tr>\n",
       "    <tr>\n",
       "      <th>max</th>\n",
       "      <td>2.514383e+00</td>\n",
       "      <td>9.440155e+00</td>\n",
       "      <td>7.815160e+00</td>\n",
       "      <td>5.838265e+01</td>\n",
       "      <td>3.227364e+00</td>\n",
       "      <td>4.780630e+00</td>\n",
       "    </tr>\n",
       "  </tbody>\n",
       "</table>\n",
       "</div>"
      ],
      "text/plain": [
       "                age       glucose         hba1c           bmi  diastolic_bp  \\\n",
       "count  5.030000e+03  5.030000e+03  5.030000e+03  5.030000e+03  5.030000e+03   \n",
       "mean  -2.357900e-16 -2.768936e-16 -5.410213e-16  1.692925e-16  1.159885e-16   \n",
       "std    1.000099e+00  1.000099e+00  1.000099e+00  1.000099e+00  1.000099e+00   \n",
       "min   -2.045054e+00 -2.704923e+00 -7.007919e+00 -2.374462e+00 -3.232432e+00   \n",
       "25%   -9.051948e-01 -4.881371e-01 -3.812669e-02 -3.658751e-01 -6.135956e-01   \n",
       "50%    6.692613e-03 -2.010452e-01 -3.812669e-02 -1.198390e-01 -8.982834e-02   \n",
       "75%    6.906082e-01  1.587281e-01 -3.812669e-02  2.534570e-01  5.212335e-01   \n",
       "max    2.514383e+00  9.440155e+00  7.815160e+00  5.838265e+01  3.227364e+00   \n",
       "\n",
       "        systolic_bp  \n",
       "count  5.030000e+03  \n",
       "mean  -4.836754e-16  \n",
       "std    1.000099e+00  \n",
       "min   -2.657644e+00  \n",
       "25%   -6.023312e-01  \n",
       "50%   -1.619072e-01  \n",
       "75%    4.742609e-01  \n",
       "max    4.780630e+00  "
      ]
     },
     "execution_count": 52,
     "metadata": {},
     "output_type": "execute_result"
    }
   ],
   "source": [
    "X_train[continuous_cols].describe()\n"
   ]
  },
  {
   "cell_type": "code",
   "execution_count": 53,
   "metadata": {},
   "outputs": [
    {
     "data": {
      "text/plain": [
       "LogisticRegression()"
      ]
     },
     "execution_count": 53,
     "metadata": {},
     "output_type": "execute_result"
    }
   ],
   "source": [
    "model = LogisticRegression()\n",
    "model.fit(X_train, y_train)\n"
   ]
  },
  {
   "cell_type": "code",
   "execution_count": 54,
   "metadata": {},
   "outputs": [],
   "source": [
    "y_pred = model.predict(X_test)\n"
   ]
  },
  {
   "cell_type": "code",
   "execution_count": 57,
   "metadata": {},
   "outputs": [
    {
     "name": "stdout",
     "output_type": "stream",
     "text": [
      "Accuracy: 0.8831478537360891\n",
      "Precision: 0.8258064516129032\n",
      "Recall: 0.5161290322580645\n",
      "F1 Score: 0.6352357320099256\n",
      "Confusion Matrix:\n",
      " [[983  27]\n",
      " [120 128]]\n"
     ]
    }
   ],
   "source": [
    "from sklearn.metrics import accuracy_score, precision_score, recall_score, f1_score, confusion_matrix, ConfusionMatrixDisplay\n",
    "\n",
    "print(\"Accuracy:\", accuracy_score(y_test, y_pred))\n",
    "print(\"Precision:\", precision_score(y_test, y_pred))\n",
    "print(\"Recall:\", recall_score(y_test, y_pred))\n",
    "print(\"F1 Score:\", f1_score(y_test, y_pred))\n",
    "print(\"Confusion Matrix:\\n\", confusion_matrix(y_test, y_pred))\n",
    "\n"
   ]
  },
  {
   "cell_type": "code",
   "execution_count": 63,
   "metadata": {},
   "outputs": [
    {
     "data": {
      "image/png": "[encoded data removed]",
      "text/plain": [
       "<Figure size 432x288 with 2 Axes>"
      ]
     },
     "metadata": {
      "needs_background": "light"
     },
     "output_type": "display_data"
    }
   ],
   "source": [
    "cm = confusion_matrix(y_test, y_pred)\n",
    "disp = ConfusionMatrixDisplay(confusion_matrix=cm, display_labels=model.classes_)\n",
    "disp.plot(cmap=plt.cm.Blues) \n",
    "plt.title(\"Confusion Matrix\")\n",
    "plt.show()"
   ]
  },
  {
   "cell_type": "code",
   "execution_count": 64,
   "metadata": {},
   "outputs": [
    {
     "data": {
      "text/plain": [
       "RandomForestClassifier(random_state=42)"
      ]
     },
     "execution_count": 64,
     "metadata": {},
     "output_type": "execute_result"
    }
   ],
   "source": [
    "from sklearn.ensemble import RandomForestClassifier\n",
    "\n",
    "rf_model = RandomForestClassifier(random_state=42)\n",
    "rf_model.fit(X_train, y_train)\n"
   ]
  },
  {
   "cell_type": "code",
   "execution_count": 71,
   "metadata": {},
   "outputs": [
    {
     "name": "stdout",
     "output_type": "stream",
     "text": [
      "Accuracy: 0.9570747217806042\n",
      "Precision: 0.9663461538461539\n",
      "Recall: 0.8104838709677419\n",
      "F1 Score: 0.881578947368421\n",
      "Confusion Matrix:\n",
      " [[1003    7]\n",
      " [  47  201]]\n"
     ]
    }
   ],
   "source": [
    "y_rf_pred = rf_model.predict(X_test)\n",
    "\n",
    "print(\"Accuracy:\", accuracy_score(y_test, y_rf_pred))\n",
    "print(\"Precision:\", precision_score(y_test, y_rf_pred))\n",
    "print(\"Recall:\", recall_score(y_test, y_rf_pred))\n",
    "print(\"F1 Score:\", f1_score(y_test, y_rf_pred))\n",
    "print(\"Confusion Matrix:\\n\", confusion_matrix(y_test, y_rf_pred))\n"
   ]
  },
  {
   "cell_type": "code",
   "execution_count": 73,
   "metadata": {},
   "outputs": [
    {
     "data": {
      "image/png": "[encoded data removed]",
      "text/plain": [
       "<Figure size 432x288 with 2 Axes>"
      ]
     },
     "metadata": {
      "needs_background": "light"
     },
     "output_type": "display_data"
    }
   ],
   "source": [
    "cm_rf = confusion_matrix(y_test, y_rf_pred)\n",
    "disp1 = ConfusionMatrixDisplay(confusion_matrix=cm_rf, display_labels=model.classes_)\n",
    "disp1.plot(cmap=plt.cm.Blues) \n",
    "plt.title(\"Confusion Matrix\")\n",
    "plt.show()"
   ]
  },
  {
   "cell_type": "code",
   "execution_count": null,
   "metadata": {},
   "outputs": [],
   "source": []
  }
 ],
 "metadata": {
  "kernelspec": {
   "display_name": "Python 3",
   "language": "python",
   "name": "python3"
  },
  "language_info": {
   "codemirror_mode": {
    "name": "ipython",
    "version": 3
   },
   "file_extension": ".py",
   "mimetype": "text/x-python",
   "name": "python",
   "nbconvert_exporter": "python",
   "pygments_lexer": "ipython3",
   "version": "3.8.5"
  }
 },
 "nbformat": 4,
 "nbformat_minor": 4
}
